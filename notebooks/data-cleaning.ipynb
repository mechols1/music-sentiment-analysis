{
 "cells": [
  {
   "cell_type": "code",
   "execution_count": 7,
   "metadata": {},
   "outputs": [
    {
     "name": "stdout",
     "output_type": "stream",
     "text": [
      "                                          lastfm_url             track  \\\n",
      "0  https://www.last.fm/music/eminem/_/%2527till%2...  'Till I Collapse   \n",
      "1  https://www.last.fm/music/metallica/_/st.%2banger         St. Anger   \n",
      "2  https://www.last.fm/music/rick%2bross/_/speedi...          Speedin'   \n",
      "3  https://www.last.fm/music/m.i.a./_/bamboo%2bbanga      Bamboo Banga   \n",
      "4    https://www.last.fm/music/dope/_/die%2bmf%2bdie        Die MF Die   \n",
      "\n",
      "      artist                                       seeds  \\\n",
      "0     Eminem                              ['aggressive']   \n",
      "1  Metallica                              ['aggressive']   \n",
      "2  Rick Ross                              ['aggressive']   \n",
      "3     M.I.A.  ['aggressive', 'fun', 'sexy', 'energetic']   \n",
      "4       Dope                              ['aggressive']   \n",
      "\n",
      "   number_of_emotion_tags  valence_tags  arousal_tags  dominance_tags  \\\n",
      "0                       6      4.550000      5.273125        5.690625   \n",
      "1                       8      3.710000      5.833000        5.427250   \n",
      "2                       1      3.080000      5.870000        5.490000   \n",
      "3                      13      6.555071      5.537214        5.691357   \n",
      "4                       7      3.771176      5.348235        5.441765   \n",
      "\n",
      "                                   mbid              spotify_id    genre  \n",
      "0  cab93def-26c5-4fb0-bedd-26ec4c1619e1  4xkOaSrkexMciUUogZKVTS      rap  \n",
      "1  727a2529-7ee8-4860-aef6-7959884895cb  3fOc9x06lKJBhz435mInlH    metal  \n",
      "2                                   NaN  3Y96xd4Ce0J47dcalLrEC8      rap  \n",
      "3  99dd2c8c-e7c1-413e-8ea4-4497a00ffa18  6tqFC1DIOphJkCwrjVzPmg  hip-hop  \n",
      "4  b9eb3484-5e0e-4690-ab5a-ca91937032a5  5bU4KX47KqtDKKaLM4QCzh    metal  \n",
      "<class 'pandas.core.frame.DataFrame'>\n",
      "RangeIndex: 90001 entries, 0 to 90000\n",
      "Data columns (total 11 columns):\n",
      " #   Column                  Non-Null Count  Dtype  \n",
      "---  ------                  --------------  -----  \n",
      " 0   lastfm_url              90001 non-null  object \n",
      " 1   track                   90001 non-null  object \n",
      " 2   artist                  90001 non-null  object \n",
      " 3   seeds                   90001 non-null  object \n",
      " 4   number_of_emotion_tags  90001 non-null  int64  \n",
      " 5   valence_tags            90001 non-null  float64\n",
      " 6   arousal_tags            90001 non-null  float64\n",
      " 7   dominance_tags          90001 non-null  float64\n",
      " 8   mbid                    61217 non-null  object \n",
      " 9   spotify_id              61630 non-null  object \n",
      " 10  genre                   83362 non-null  object \n",
      "dtypes: float64(3), int64(1), object(7)\n",
      "memory usage: 7.6+ MB\n",
      "None\n",
      "       number_of_emotion_tags  valence_tags  arousal_tags  dominance_tags\n",
      "count            90001.000000  90001.000000  90001.000000    90001.000000\n",
      "mean                 3.987745      5.454280      4.317691        5.246029\n",
      "std                  4.153822      1.553079      1.154948        1.171096\n",
      "min                  1.000000      0.235000      0.108113        0.229231\n",
      "25%                  1.000000      4.277500      3.527500        4.550194\n",
      "50%                  2.000000      5.650000      4.330000        5.460000\n",
      "75%                  5.000000      6.696667      5.150000        6.115443\n",
      "max                 50.000000      8.475000      7.270000        7.440000\n",
      "lastfm_url                    0\n",
      "track                         0\n",
      "artist                        0\n",
      "seeds                         0\n",
      "number_of_emotion_tags        0\n",
      "valence_tags                  0\n",
      "arousal_tags                  0\n",
      "dominance_tags                0\n",
      "mbid                      28784\n",
      "spotify_id                28371\n",
      "genre                      6639\n",
      "dtype: int64\n"
     ]
    }
   ],
   "source": [
    "import pandas as pd\n",
    "import numpy as np\n",
    "import os\n",
    "\n",
    "# loading the dataset\n",
    "data_path = \"../data/raw/\"\n",
    "df = pd.read_csv(os.path.join(data_path, \"muse_v3.csv\")) \n",
    "\n",
    "# explore the structure of the dataset\n",
    "print(df.head())\n",
    "print(df.info())\n",
    "print(df.describe())\n",
    "\n",
    "#  check for missing values\n",
    "print(df.isnull().sum())"
   ]
  },
  {
   "cell_type": "code",
   "execution_count": null,
   "metadata": {},
   "outputs": [],
   "source": [
    "# data cleaning\n",
    "\n",
    "# drop duplicates\n",
    "df = df.drop_duplicates()\n",
    "\n",
    "# check if duplicates were removed\n",
    "print(\"Shape after removing duplicates:\", df.shape)"
   ]
  },
  {
   "cell_type": "markdown",
   "metadata": {},
   "source": [
    "# Start off with valence for binary \"Happy / Sad\" classification"
   ]
  },
  {
   "cell_type": "code",
   "execution_count": null,
   "metadata": {},
   "outputs": [
    {
     "name": "stdout",
     "output_type": "stream",
     "text": [
      "emotion\n",
      "happy    57799\n",
      "sad      32202\n",
      "Name: count, dtype: int64\n"
     ]
    }
   ],
   "source": [
    "# valence for classification\n",
    "# valence > 5 is positive\n",
    "# valence < 5 is negative\n",
    "threshold = 5\n",
    "df['emotion'] = df['valence_tags'].apply(lambda x: 'happy' if x > threshold else 'sad')\n",
    "\n",
    "\n",
    "# check distribution\n",
    "print(df['emotion'].value_counts())"
   ]
  }
 ],
 "metadata": {
  "kernelspec": {
   "display_name": "Python 3",
   "language": "python",
   "name": "python3"
  },
  "language_info": {
   "codemirror_mode": {
    "name": "ipython",
    "version": 3
   },
   "file_extension": ".py",
   "mimetype": "text/x-python",
   "name": "python",
   "nbconvert_exporter": "python",
   "pygments_lexer": "ipython3",
   "version": "3.10.13"
  }
 },
 "nbformat": 4,
 "nbformat_minor": 2
}
