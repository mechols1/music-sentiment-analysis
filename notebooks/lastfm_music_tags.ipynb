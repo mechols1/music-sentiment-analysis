{
 "cells": [
  {
   "cell_type": "code",
   "execution_count": 9,
   "metadata": {},
   "outputs": [
    {
     "data": {
      "text/plain": [
       "True"
      ]
     },
     "execution_count": 9,
     "metadata": {},
     "output_type": "execute_result"
    }
   ],
   "source": [
    "import pylast\n",
    "import os\n",
    "from dotenv import load_dotenv\n",
    "import pandas as pd\n",
    "import matplotlib.pyplot as plt\n",
    "# import seaborn as sns\n",
    "\n",
    "#load the environment variables from the .env file\n",
    "load_dotenv()\n"
   ]
  },
  {
   "cell_type": "code",
   "execution_count": 10,
   "metadata": {},
   "outputs": [],
   "source": [
    "# authentication \n",
    "def get_lastfm_network():\n",
    "    \"\"\"Create and return an authenticated Last.fm network object\"\"\"\n",
    "    API_KEY = os.environ.get(\"LASTFM_API_KEY\")\n",
    "    API_SECRET = os.environ.get(\"LASTFM_API_SECRET\")\n",
    "    API_USERNAME = os.environ.get(\"LASTFM_API_USERNAME\")\n",
    "    API_PASSWORD = os.environ.get(\"LASTFM_API_PASSWORD\")\n",
    "    API_PASSWORD_HASHED = pylast.md5(API_PASSWORD) if API_PASSWORD else None\n",
    "    \n",
    "    return pylast.LastFMNetwork(\n",
    "        api_key=API_KEY,\n",
    "        api_secret=API_SECRET,\n",
    "        username=API_USERNAME,\n",
    "        password_hash=API_PASSWORD_HASHED,\n",
    "    )"
   ]
  },
  {
   "cell_type": "code",
   "execution_count": 11,
   "metadata": {},
   "outputs": [],
   "source": [
    "# we will be using tags a lot, so let's create a function for\n",
    "# formatting the tags into human readable format\n",
    "def display_tags_table(track_info, limit=10):\n",
    "    \"\"\"Display a nicely formatted table of tags and weights\"\"\"\n",
    "    # Create a list of (tag, weight) tuples\n",
    "    tag_data = [(item.item.get_name(), int(item.weight)) for item in track_info]\n",
    "    \n",
    "    # Sort by weight in descending order\n",
    "    tag_data.sort(key=lambda x: x[1], reverse=True)\n",
    "    \n",
    "    # Limit to specified number\n",
    "    tag_data = tag_data[:limit]\n",
    "    \n",
    "    # Create a DataFrame for display\n",
    "    df = pd.DataFrame(tag_data, columns=['Tag', 'Weight'])\n",
    "    \n",
    "    # Return the DataFrame (Jupyter will display it nicely)\n",
    "    return df"
   ]
  },
  {
   "cell_type": "code",
   "execution_count": 12,
   "metadata": {},
   "outputs": [
    {
     "data": {
      "text/html": [
       "<div>\n",
       "<style scoped>\n",
       "    .dataframe tbody tr th:only-of-type {\n",
       "        vertical-align: middle;\n",
       "    }\n",
       "\n",
       "    .dataframe tbody tr th {\n",
       "        vertical-align: top;\n",
       "    }\n",
       "\n",
       "    .dataframe thead th {\n",
       "        text-align: right;\n",
       "    }\n",
       "</style>\n",
       "<table border=\"1\" class=\"dataframe\">\n",
       "  <thead>\n",
       "    <tr style=\"text-align: right;\">\n",
       "      <th></th>\n",
       "      <th>Tag</th>\n",
       "      <th>Weight</th>\n",
       "    </tr>\n",
       "  </thead>\n",
       "  <tbody>\n",
       "    <tr>\n",
       "      <th>0</th>\n",
       "      <td>classic rock</td>\n",
       "      <td>100</td>\n",
       "    </tr>\n",
       "    <tr>\n",
       "      <th>1</th>\n",
       "      <td>60s</td>\n",
       "      <td>71</td>\n",
       "    </tr>\n",
       "    <tr>\n",
       "      <th>2</th>\n",
       "      <td>The Beatles</td>\n",
       "      <td>66</td>\n",
       "    </tr>\n",
       "    <tr>\n",
       "      <th>3</th>\n",
       "      <td>rock</td>\n",
       "      <td>64</td>\n",
       "    </tr>\n",
       "    <tr>\n",
       "      <th>4</th>\n",
       "      <td>british</td>\n",
       "      <td>50</td>\n",
       "    </tr>\n",
       "    <tr>\n",
       "      <th>5</th>\n",
       "      <td>pop</td>\n",
       "      <td>28</td>\n",
       "    </tr>\n",
       "    <tr>\n",
       "      <th>6</th>\n",
       "      <td>beatles</td>\n",
       "      <td>20</td>\n",
       "    </tr>\n",
       "    <tr>\n",
       "      <th>7</th>\n",
       "      <td>oldies</td>\n",
       "      <td>18</td>\n",
       "    </tr>\n",
       "    <tr>\n",
       "      <th>8</th>\n",
       "      <td>classic</td>\n",
       "      <td>11</td>\n",
       "    </tr>\n",
       "    <tr>\n",
       "      <th>9</th>\n",
       "      <td>piano</td>\n",
       "      <td>9</td>\n",
       "    </tr>\n",
       "  </tbody>\n",
       "</table>\n",
       "</div>"
      ],
      "text/plain": [
       "            Tag  Weight\n",
       "0  classic rock     100\n",
       "1           60s      71\n",
       "2   The Beatles      66\n",
       "3          rock      64\n",
       "4       british      50\n",
       "5           pop      28\n",
       "6       beatles      20\n",
       "7        oldies      18\n",
       "8       classic      11\n",
       "9         piano       9"
      ]
     },
     "execution_count": 12,
     "metadata": {},
     "output_type": "execute_result"
    }
   ],
   "source": [
    "# This script is used to test the pylast library\n",
    "\n",
    "network = get_lastfm_network()\n",
    "\n",
    "track = network.get_track(\"The Beatles\", \"Hey Jude\")\n",
    "track_top_tags = track.get_top_tags()\n",
    "\n",
    "#process into a DataFrame (df)\n",
    "display_tags_table(track_top_tags)\n",
    "\n"
   ]
  }
 ],
 "metadata": {
  "kernelspec": {
   "display_name": "venv",
   "language": "python",
   "name": "python3"
  },
  "language_info": {
   "codemirror_mode": {
    "name": "ipython",
    "version": 3
   },
   "file_extension": ".py",
   "mimetype": "text/x-python",
   "name": "python",
   "nbconvert_exporter": "python",
   "pygments_lexer": "ipython3",
   "version": "3.11.5"
  }
 },
 "nbformat": 4,
 "nbformat_minor": 2
}
